{
  "nbformat": 4,
  "nbformat_minor": 0,
  "metadata": {
    "colab": {
      "name": "Linear_Regression.ipynb",
      "private_outputs": true,
      "provenance": [],
      "collapsed_sections": []
    },
    "kernelspec": {
      "name": "python3",
      "display_name": "Python 3"
    },
    "language_info": {
      "name": "python"
    }
  },
  "cells": [
    {
      "cell_type": "code",
      "execution_count": null,
      "metadata": {
        "id": "KZmzpZZz_Umn"
      },
      "outputs": [],
      "source": [
        "import os\n",
        "os.environ['TF_CPP_MIN_LOG_LEVEL'] = '2'\n",
        "\n",
        "import matplotlib.pyplot as plt\n",
        "import numpy as np\n",
        "import pandas as pd\n",
        "\n",
        "np.set_printoptions(precision=3, suppress=True)"
      ]
    },
    {
      "cell_type": "code",
      "source": [
        "import tensorflow as tf\n",
        "\n",
        "from tensorflow import keras\n",
        "from tensorflow.keras import layers\n",
        "from tensorflow.keras.layers.experimental import preprocessing"
      ],
      "metadata": {
        "id": "zJcFYsEO_gv6"
      },
      "execution_count": null,
      "outputs": []
    },
    {
      "cell_type": "code",
      "source": [
        "url ='https://archive.ics.uci.edu/ml/machine-learning-databases/auto-mpg/auto-mpg.data'\n",
        "column_names = ['MPG', 'Cylinders', 'Displacement', 'Horsepower', 'Weight', 'Acceleration', 'Model Year', 'Origin']\n",
        "\n",
        "dataset = pd.read_csv(url, names=column_names, na_values='?', comment='\\t', sep=' ', skipinitialspace=True)"
      ],
      "metadata": {
        "id": "2qrq4yzuANzd"
      },
      "execution_count": null,
      "outputs": []
    },
    {
      "cell_type": "code",
      "source": [
        "dataset.tail()"
      ],
      "metadata": {
        "id": "nM3qeg3pAWEW"
      },
      "execution_count": null,
      "outputs": []
    },
    {
      "cell_type": "code",
      "source": [
        "dataset = dataset.dropna()\n",
        "\n",
        "origin = dataset.pop('Origin')\n",
        "dataset['USA'] = (origin == 1) * 1\n",
        "dataset['Europe'] = (origin == 2) * 1\n",
        "dataset['Japan'] = (origin == 3) * 1"
      ],
      "metadata": {
        "id": "_Rfa0ZrwAeu5"
      },
      "execution_count": null,
      "outputs": []
    },
    {
      "cell_type": "code",
      "source": [
        "dataset.tail()"
      ],
      "metadata": {
        "id": "-CAlUiQ49ylP"
      },
      "execution_count": null,
      "outputs": []
    },
    {
      "cell_type": "code",
      "source": [
        "train_dataset = dataset.sample(frac=0.8, random_state=0)\n",
        "test_dataset = dataset.drop(train_dataset.index)\n",
        "\n",
        "print(dataset.shape, train_dataset.shape, test_dataset.shape)\n",
        "train_dataset.describe().transpose()"
      ],
      "metadata": {
        "id": "0ca27Q4i_K9Z"
      },
      "execution_count": null,
      "outputs": []
    },
    {
      "cell_type": "code",
      "source": [
        "train_features = train_dataset.copy()\n",
        "test_features = test_dataset.copy()\n",
        "\n",
        "train_labels = train_features.pop('MPG')\n",
        "test_labels = test_features.pop('MPG')"
      ],
      "metadata": {
        "id": "NB90cyCPAXcB"
      },
      "execution_count": null,
      "outputs": []
    },
    {
      "cell_type": "code",
      "source": [
        "def plot(feature, x=None, y=None):\n",
        "  plt.figure(figsize=(10, 8))\n",
        "  plt.scatter(train_features[feature], train_labels, label='Data')\n",
        "  if x is not None and y is not None:\n",
        "    plt.plot(x, y, color='k', label='Predictions')\n",
        "    plt.xlabel(feature)\n",
        "    plt.ylabel('MPG')\n",
        "    plt.legend()"
      ],
      "metadata": {
        "id": "mAEEYCsLBHyC"
      },
      "execution_count": null,
      "outputs": []
    },
    {
      "cell_type": "code",
      "source": [
        "plot('Horsepower')"
      ],
      "metadata": {
        "id": "AlRMlG24CLt2"
      },
      "execution_count": null,
      "outputs": []
    },
    {
      "cell_type": "code",
      "source": [
        "plot('Weight')"
      ],
      "metadata": {
        "id": "JRtv4C-nCcw-"
      },
      "execution_count": null,
      "outputs": []
    },
    {
      "cell_type": "code",
      "source": [
        "print(train_dataset.describe().transpose()[['mean', 'std']])\n",
        "\n",
        "\n",
        "normalizer = preprocessing.Normalization()\n",
        "\n",
        "normalizer.adapt(np.array(train_features))\n",
        "\n",
        "print(normalizer.mean.numpy())"
      ],
      "metadata": {
        "id": "xvI4ooINCkiZ"
      },
      "execution_count": null,
      "outputs": []
    },
    {
      "cell_type": "code",
      "source": [
        "first = np.array(train_features[:1])\n",
        "print('First example: ', first)\n",
        "print('Normalizer: ', normalizer(first).numpy())"
      ],
      "metadata": {
        "id": "u6dyCgAvDMam"
      },
      "execution_count": null,
      "outputs": []
    },
    {
      "cell_type": "code",
      "source": [
        "feature = 'Horsepower'\n",
        "single_feature = np.array(train_features[feature])\n",
        "print(single_feature.shape, train_features.shape)\n",
        "\n",
        "single_feature_normalizer = preprocessing.Normalization()\n",
        "\n",
        "single_feature_normalizer.adapt(single_feature)"
      ],
      "metadata": {
        "id": "ThVTgQJZEhYz"
      },
      "execution_count": null,
      "outputs": []
    },
    {
      "cell_type": "code",
      "source": [
        " single_feature_model = keras.models.Sequential([\n",
        "    single_feature_normalizer,\n",
        "    layers.Dense(units=1)\n",
        "\n",
        "])"
      ],
      "metadata": {
        "id": "D423KP9yFkzt"
      },
      "execution_count": null,
      "outputs": []
    },
    {
      "cell_type": "code",
      "source": [
        ""
      ],
      "metadata": {
        "id": "2lhZATbcFt1A"
      },
      "execution_count": null,
      "outputs": []
    }
  ]
}